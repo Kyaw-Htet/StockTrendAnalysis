{
 "cells": [
  {
   "cell_type": "markdown",
   "metadata": {
    "scrolled": true
   },
   "source": [
    "# RNN prediction for future value\n",
    "It can predict no. of days in advance. You can configure 'future' parameter to adjust no. of days to predict by looking at no. of day to 'lookback'.\n",
    "\n",
    "Adapted from https://github.com/ivanarielcaceres/timeseries-lstm-keras/blob/master/.ipynb_checkpoints/timeseries-prediction-checkpoint.ipynb"
   ]
  },
  {
   "cell_type": "code",
   "execution_count": 1,
   "metadata": {},
   "outputs": [
    {
     "name": "stderr",
     "output_type": "stream",
     "text": [
      "Using TensorFlow backend.\n"
     ]
    }
   ],
   "source": [
    "import tensorflow as tf\n",
    "from matplotlib import pyplot as plt\n",
    "from sklearn.preprocessing import MinMaxScaler\n",
    "from keras.models import Sequential\n",
    "from keras.layers import GRU, Dense\n",
    "from keras.layers import LSTM\n",
    "from keras  import callbacks\n",
    "from keras import optimizers\n",
    "import pandas as pd \n",
    "import numpy as np\n",
    "from keras.layers import Dropout"
   ]
  },
  {
   "cell_type": "code",
   "execution_count": 2,
   "metadata": {},
   "outputs": [
    {
     "name": "stdout",
     "output_type": "stream",
     "text": [
      "         Date  Open  High   Low  Close  Adj Close    Volume\n",
      "0  2007-11-07  1.47  1.47  1.47   1.47   0.770844    6000.0\n",
      "1  2007-11-09  1.45  1.46  1.45   1.46   0.765600   24000.0\n",
      "2  2007-11-12  1.45  1.45  1.38   1.40   0.734137  133000.0\n",
      "3  2007-11-13  1.40  1.40  1.38   1.38   0.723649   58000.0\n",
      "4  2007-11-14  1.39  1.42  1.39   1.41   0.739380   60000.0\n"
     ]
    }
   ],
   "source": [
    "df = pd.read_csv('J69U.SI.csv')\n",
    "print(df.head())"
   ]
  },
  {
   "cell_type": "markdown",
   "metadata": {},
   "source": [
    "# Data cleansing"
   ]
  },
  {
   "cell_type": "code",
   "execution_count": 3,
   "metadata": {},
   "outputs": [
    {
     "name": "stdout",
     "output_type": "stream",
     "text": [
      "Total rows: 2873\n"
     ]
    },
    {
     "data": {
      "text/html": [
       "<div>\n",
       "<style scoped>\n",
       "    .dataframe tbody tr th:only-of-type {\n",
       "        vertical-align: middle;\n",
       "    }\n",
       "\n",
       "    .dataframe tbody tr th {\n",
       "        vertical-align: top;\n",
       "    }\n",
       "\n",
       "    .dataframe thead th {\n",
       "        text-align: right;\n",
       "    }\n",
       "</style>\n",
       "<table border=\"1\" class=\"dataframe\">\n",
       "  <thead>\n",
       "    <tr style=\"text-align: right;\">\n",
       "      <th></th>\n",
       "      <th>Open</th>\n",
       "    </tr>\n",
       "    <tr>\n",
       "      <th>Date</th>\n",
       "      <th></th>\n",
       "    </tr>\n",
       "  </thead>\n",
       "  <tbody>\n",
       "    <tr>\n",
       "      <th>2007-11-07</th>\n",
       "      <td>1.47</td>\n",
       "    </tr>\n",
       "    <tr>\n",
       "      <th>2007-11-09</th>\n",
       "      <td>1.45</td>\n",
       "    </tr>\n",
       "    <tr>\n",
       "      <th>2007-11-12</th>\n",
       "      <td>1.45</td>\n",
       "    </tr>\n",
       "    <tr>\n",
       "      <th>2007-11-13</th>\n",
       "      <td>1.40</td>\n",
       "    </tr>\n",
       "    <tr>\n",
       "      <th>2007-11-14</th>\n",
       "      <td>1.39</td>\n",
       "    </tr>\n",
       "  </tbody>\n",
       "</table>\n",
       "</div>"
      ],
      "text/plain": [
       "            Open\n",
       "Date            \n",
       "2007-11-07  1.47\n",
       "2007-11-09  1.45\n",
       "2007-11-12  1.45\n",
       "2007-11-13  1.40\n",
       "2007-11-14  1.39"
      ]
     },
     "execution_count": 3,
     "metadata": {},
     "output_type": "execute_result"
    }
   ],
   "source": [
    "df = df[['Date','Open']]\n",
    "df.set_index('Date', inplace=True)\n",
    "print('Total rows: {}'.format(len(df)))\n",
    "df.head()"
   ]
  },
  {
   "cell_type": "code",
   "execution_count": 4,
   "metadata": {},
   "outputs": [
    {
     "data": {
      "text/html": [
       "<div>\n",
       "<style scoped>\n",
       "    .dataframe tbody tr th:only-of-type {\n",
       "        vertical-align: middle;\n",
       "    }\n",
       "\n",
       "    .dataframe tbody tr th {\n",
       "        vertical-align: top;\n",
       "    }\n",
       "\n",
       "    .dataframe thead th {\n",
       "        text-align: right;\n",
       "    }\n",
       "</style>\n",
       "<table border=\"1\" class=\"dataframe\">\n",
       "  <thead>\n",
       "    <tr style=\"text-align: right;\">\n",
       "      <th></th>\n",
       "      <th>Open</th>\n",
       "    </tr>\n",
       "  </thead>\n",
       "  <tbody>\n",
       "    <tr>\n",
       "      <th>count</th>\n",
       "      <td>2872.000000</td>\n",
       "    </tr>\n",
       "    <tr>\n",
       "      <th>mean</th>\n",
       "      <td>1.713101</td>\n",
       "    </tr>\n",
       "    <tr>\n",
       "      <th>std</th>\n",
       "      <td>0.435331</td>\n",
       "    </tr>\n",
       "    <tr>\n",
       "      <th>min</th>\n",
       "      <td>0.500000</td>\n",
       "    </tr>\n",
       "    <tr>\n",
       "      <th>25%</th>\n",
       "      <td>1.430000</td>\n",
       "    </tr>\n",
       "    <tr>\n",
       "      <th>50%</th>\n",
       "      <td>1.850000</td>\n",
       "    </tr>\n",
       "    <tr>\n",
       "      <th>75%</th>\n",
       "      <td>2.060000</td>\n",
       "    </tr>\n",
       "    <tr>\n",
       "      <th>max</th>\n",
       "      <td>2.410000</td>\n",
       "    </tr>\n",
       "  </tbody>\n",
       "</table>\n",
       "</div>"
      ],
      "text/plain": [
       "              Open\n",
       "count  2872.000000\n",
       "mean      1.713101\n",
       "std       0.435331\n",
       "min       0.500000\n",
       "25%       1.430000\n",
       "50%       1.850000\n",
       "75%       2.060000\n",
       "max       2.410000"
      ]
     },
     "execution_count": 4,
     "metadata": {},
     "output_type": "execute_result"
    }
   ],
   "source": [
    "df.describe()"
   ]
  },
  {
   "cell_type": "code",
   "execution_count": 5,
   "metadata": {},
   "outputs": [
    {
     "data": {
      "text/plain": [
       "<matplotlib.axes._subplots.AxesSubplot at 0x1a642ca6fd0>"
      ]
     },
     "execution_count": 5,
     "metadata": {},
     "output_type": "execute_result"
    },
    {
     "data": {
      "image/png": "[encoded data removed]",
      "text/plain": [
       "<Figure size 432x288 with 1 Axes>"
      ]
     },
     "metadata": {
      "needs_background": "light"
     },
     "output_type": "display_data"
    }
   ],
   "source": [
    "df.plot()"
   ]
  },
  {
   "cell_type": "markdown",
   "metadata": {},
   "source": [
    "Null values?"
   ]
  },
  {
   "cell_type": "code",
   "execution_count": 6,
   "metadata": {},
   "outputs": [
    {
     "data": {
      "text/plain": [
       "Open    1\n",
       "dtype: int64"
      ]
     },
     "execution_count": 6,
     "metadata": {},
     "output_type": "execute_result"
    }
   ],
   "source": [
    "df.isnull().sum()"
   ]
  },
  {
   "cell_type": "code",
   "execution_count": 7,
   "metadata": {},
   "outputs": [
    {
     "data": {
      "text/plain": [
       "Open    1\n",
       "dtype: int64"
      ]
     },
     "execution_count": 7,
     "metadata": {},
     "output_type": "execute_result"
    }
   ],
   "source": [
    "null_columns=df.columns[df.isnull().any()]\n",
    "df[null_columns].isnull().sum()"
   ]
  },
  {
   "cell_type": "code",
   "execution_count": 8,
   "metadata": {},
   "outputs": [
    {
     "name": "stdout",
     "output_type": "stream",
     "text": [
      "            Open\n",
      "Date            \n",
      "2008-10-27   NaN\n"
     ]
    }
   ],
   "source": [
    "print(df[df.isnull().any(axis=1)][null_columns].head())"
   ]
  },
  {
   "cell_type": "code",
   "execution_count": 9,
   "metadata": {},
   "outputs": [],
   "source": [
    "df.dropna(inplace=True)"
   ]
  },
  {
   "cell_type": "code",
   "execution_count": 10,
   "metadata": {},
   "outputs": [
    {
     "data": {
      "text/plain": [
       "Open    0\n",
       "dtype: int64"
      ]
     },
     "execution_count": 10,
     "metadata": {},
     "output_type": "execute_result"
    }
   ],
   "source": [
    "df.isnull().sum()"
   ]
  },
  {
   "cell_type": "code",
   "execution_count": 11,
   "metadata": {},
   "outputs": [
    {
     "data": {
      "text/plain": [
       "array([[<matplotlib.axes._subplots.AxesSubplot object at 0x000001A642FC5940>]],\n",
       "      dtype=object)"
      ]
     },
     "execution_count": 11,
     "metadata": {},
     "output_type": "execute_result"
    },
    {
     "data": {
      "image/png": "[encoded data removed]",
      "text/plain": [
       "<Figure size 432x288 with 1 Axes>"
      ]
     },
     "metadata": {
      "needs_background": "light"
     },
     "output_type": "display_data"
    }
   ],
   "source": [
    "df.hist(bins=10)"
   ]
  },
  {
   "cell_type": "code",
   "execution_count": 12,
   "metadata": {},
   "outputs": [
    {
     "data": {
      "text/plain": [
       "0"
      ]
     },
     "execution_count": 12,
     "metadata": {},
     "output_type": "execute_result"
    }
   ],
   "source": [
    "len(df[df['Open'] == 0])"
   ]
  },
  {
   "cell_type": "markdown",
   "metadata": {},
   "source": [
    "# Scaled data"
   ]
  },
  {
   "cell_type": "code",
   "execution_count": 13,
   "metadata": {},
   "outputs": [
    {
     "name": "stdout",
     "output_type": "stream",
     "text": [
      "Min Open    0.5\n",
      "dtype: float64\n",
      "Max Open    2.41\n",
      "dtype: float64\n"
     ]
    }
   ],
   "source": [
    "print('Min', np.min(df))\n",
    "print('Max', np.max(df))"
   ]
  },
  {
   "cell_type": "markdown",
   "metadata": {},
   "source": [
    "We can then extract the NumPy array from the dataframe and convert the integer values to floating point values, which are more suitable for modeling with a neural network."
   ]
  },
  {
   "cell_type": "code",
   "execution_count": 14,
   "metadata": {},
   "outputs": [],
   "source": [
    "dataset = df.astype('float32')"
   ]
  },
  {
   "cell_type": "markdown",
   "metadata": {},
   "source": [
    "LSTMs are sensitive to the scale of the input data, specifically when the sigmoid (default) or tanh activation functions are used. It can be a good practice to rescale the data to the range of 0-to-1, also called normalizing. We can easily normalize the dataset using the MinMaxScaler preprocessing class from the scikit-learn library."
   ]
  },
  {
   "cell_type": "code",
   "execution_count": 15,
   "metadata": {},
   "outputs": [
    {
     "name": "stderr",
     "output_type": "stream",
     "text": [
      "C:\\Users\\kohte\\Anaconda3\\lib\\site-packages\\sklearn\\preprocessing\\data.py:323: DataConversionWarning: Data with input dtype float32 were all converted to float64 by MinMaxScaler.\n",
      "  return self.partial_fit(X, y)\n"
     ]
    }
   ],
   "source": [
    "scaler = MinMaxScaler(feature_range=(0, 1))\n",
    "scaled = scaler.fit_transform(dataset) "
   ]
  },
  {
   "cell_type": "code",
   "execution_count": 16,
   "metadata": {},
   "outputs": [
    {
     "name": "stdout",
     "output_type": "stream",
     "text": [
      "Min 0.0\n",
      "Max 1.0\n"
     ]
    }
   ],
   "source": [
    "print('Min', np.min(scaled))\n",
    "print('Max', np.max(scaled))"
   ]
  },
  {
   "cell_type": "code",
   "execution_count": 17,
   "metadata": {},
   "outputs": [
    {
     "name": "stdout",
     "output_type": "stream",
     "text": [
      "[[0.5078534 ]\n",
      " [0.4973822 ]\n",
      " [0.4973822 ]\n",
      " [0.47120415]\n",
      " [0.46596856]\n",
      " [0.47120415]\n",
      " [0.42931938]\n",
      " [0.42408372]\n",
      " [0.42931938]\n",
      " [0.44502617]]\n"
     ]
    }
   ],
   "source": [
    "print(scaled[:10])"
   ]
  },
  {
   "cell_type": "markdown",
   "metadata": {},
   "source": [
    "# Create the RNN"
   ]
  },
  {
   "cell_type": "markdown",
   "metadata": {},
   "source": [
    "A simple method that we can use is to split the ordered dataset into train and test datasets. The code below calculates the index of the split point and separates the data into the training datasets with 70% of the observations that we can use to train our model, leaving the remaining 30% for testing the model.\n",
    "Split into train and test sets"
   ]
  },
  {
   "cell_type": "code",
   "execution_count": 18,
   "metadata": {},
   "outputs": [
    {
     "name": "stdout",
     "output_type": "stream",
     "text": [
      "train: 1866\n",
      "test: 1006\n"
     ]
    }
   ],
   "source": [
    "train_size = int(len(scaled) * 0.65)\n",
    "test_size = len(scaled - train_size)\n",
    "train, test = scaled[0:train_size, :], scaled[train_size: len(scaled), :]\n",
    "print('train: {}\\ntest: {}'.format(len(train), len(test)))"
   ]
  },
  {
   "cell_type": "markdown",
   "metadata": {},
   "source": [
    "convert an array of values into a dataset matrix"
   ]
  },
  {
   "cell_type": "markdown",
   "metadata": {},
   "source": [
    "The function takes two arguments: the dataset, which is a NumPy array that we want to convert into a dataset, and the look_back, which is the number of previous time steps to use as input variables to predict the next time period — in this case defaulted to 1."
   ]
  },
  {
   "cell_type": "markdown",
   "metadata": {},
   "source": [
    "This default will create a dataset where X is the energy quantity at a given time (t) and Y is the qty of energy at the next time (t + 1 + future)."
   ]
  },
  {
   "cell_type": "code",
   "execution_count": 19,
   "metadata": {},
   "outputs": [],
   "source": [
    "future = 1\n",
    "\n",
    "def create_dataset(dataset, look_back=20):\n",
    "    print(len(dataset), look_back)\n",
    "    dataX, dataY = [], []\n",
    "    for i in range(len(dataset)-look_back-1-future):\n",
    "        a = dataset[i:(i+look_back), 0]\n",
    "        dataset[i + look_back, 0]\n",
    "        dataX.append(a)\n",
    "        dataY.append(dataset[i + look_back+future, 0])\n",
    "    return np.array(dataX), np.array(dataY)"
   ]
  },
  {
   "cell_type": "markdown",
   "metadata": {},
   "source": [
    "reshape into X=t and Y=t+1"
   ]
  },
  {
   "cell_type": "code",
   "execution_count": 20,
   "metadata": {},
   "outputs": [
    {
     "name": "stdout",
     "output_type": "stream",
     "text": [
      "1866 30\n",
      "1006 30\n"
     ]
    }
   ],
   "source": [
    "look_back = 30\n",
    "X_train, y_train = create_dataset(train, look_back)\n",
    "X_test, y_test = create_dataset(test, look_back)"
   ]
  },
  {
   "cell_type": "markdown",
   "metadata": {},
   "source": [
    "The LSTM network expects the input data (X) to be provided with a specific array structure in the form of: [samples, time steps, features].\n",
    "\n",
    "\n",
    "reshape input to be [samples, time steps, features]"
   ]
  },
  {
   "cell_type": "code",
   "execution_count": 21,
   "metadata": {},
   "outputs": [
    {
     "name": "stdout",
     "output_type": "stream",
     "text": [
      "(1834, 30, 1)\n",
      "(974, 30, 1)\n"
     ]
    }
   ],
   "source": [
    "X_train = np.reshape(X_train, (X_train.shape[0], X_train.shape[1], 1))\n",
    "X_test = np.reshape(X_test, (X_test.shape[0], X_test.shape[1], 1))\n",
    "len_train = X_train.shape[0]\n",
    "len_test = X_test.shape[0]\n",
    "print(X_train.shape)\n",
    "print(X_test.shape)"
   ]
  },
  {
   "cell_type": "markdown",
   "metadata": {},
   "source": [
    "The network has a visible layer with 1 input, a hidden layer with 4 LSTM blocks or neurons, and an output layer that makes a single value prediction. The default sigmoid activation function is used for the LSTM blocks. The network is trained for 100 epochs and a batch size of 1 is used.\n",
    "\n",
    "\n",
    "create and fit the LSTM network"
   ]
  },
  {
   "cell_type": "code",
   "execution_count": 22,
   "metadata": {},
   "outputs": [
    {
     "name": "stdout",
     "output_type": "stream",
     "text": [
      "batch_size : 2\n",
      "WARNING:tensorflow:From C:\\Users\\kohte\\Anaconda3\\lib\\site-packages\\tensorflow\\python\\framework\\op_def_library.py:263: colocate_with (from tensorflow.python.framework.ops) is deprecated and will be removed in a future version.\n",
      "Instructions for updating:\n",
      "Colocations handled automatically by placer.\n",
      "WARNING:tensorflow:From C:\\Users\\kohte\\Anaconda3\\lib\\site-packages\\keras\\backend\\tensorflow_backend.py:3445: calling dropout (from tensorflow.python.ops.nn_ops) with keep_prob is deprecated and will be removed in a future version.\n",
      "Instructions for updating:\n",
      "Please use `rate` instead of `keep_prob`. Rate should be set to `rate = 1 - keep_prob`.\n",
      "_________________________________________________________________\n",
      "Layer (type)                 Output Shape              Param #   \n",
      "=================================================================\n",
      "lstm_1 (LSTM)                (2, 30, 50)               10400     \n",
      "_________________________________________________________________\n",
      "dropout_1 (Dropout)          (2, 30, 50)               0         \n",
      "_________________________________________________________________\n",
      "lstm_2 (LSTM)                (2, 30, 50)               20200     \n",
      "_________________________________________________________________\n",
      "dropout_2 (Dropout)          (2, 30, 50)               0         \n",
      "_________________________________________________________________\n",
      "lstm_3 (LSTM)                (2, 30, 50)               20200     \n",
      "_________________________________________________________________\n",
      "dropout_3 (Dropout)          (2, 30, 50)               0         \n",
      "_________________________________________________________________\n",
      "lstm_4 (LSTM)                (2, 50)                   20200     \n",
      "_________________________________________________________________\n",
      "dropout_4 (Dropout)          (2, 50)                   0         \n",
      "_________________________________________________________________\n",
      "dense_1 (Dense)              (2, 1)                    51        \n",
      "=================================================================\n",
      "Total params: 71,051\n",
      "Trainable params: 71,051\n",
      "Non-trainable params: 0\n",
      "_________________________________________________________________\n",
      "None\n"
     ]
    }
   ],
   "source": [
    "def computeHCF(x, y):\n",
    "\n",
    "# choose the smaller number\n",
    "    if x > y:\n",
    "        smaller = y\n",
    "    else:\n",
    "        smaller = x\n",
    "    for i in range(1, smaller+1):\n",
    "        if((x % i == 0) and (y % i == 0)):\n",
    "            hcf = i\n",
    "            \n",
    "    return hcf\n",
    "batch_size = computeHCF(len_train,len_test)\n",
    "\n",
    "print('batch_size : {}'.format(batch_size))\n",
    "model = Sequential()\n",
    "\n",
    "# Adding the first LSTM layer and some Dropout regularisation\n",
    "model.add(LSTM(units = 50, return_sequences = True, batch_input_shape=(batch_size, look_back, 1)))\n",
    "model.add(Dropout(0.2))\n",
    "\n",
    "# Adding a second LSTM layer and some Dropout regularisation\n",
    "model.add(LSTM(units = 50, return_sequences = True))\n",
    "model.add(Dropout(0.2))\n",
    "\n",
    "# Adding a third LSTM layer and some Dropout regularisation\n",
    "model.add(LSTM(units = 50, return_sequences = True))\n",
    "model.add(Dropout(0.2))\n",
    "\n",
    "# Adding a fourth LSTM layer and some Dropout regularisation\n",
    "model.add(LSTM(units = 50))\n",
    "model.add(Dropout(0.2))\n",
    "\n",
    "# model.add(LSTM(20, batch_input_shape=(batch_size, look_back, 1), stateful=True))\n",
    "\n",
    "# Adding the output layer\n",
    "model.add(Dense(units = 1))\n",
    "\n",
    "model.compile(loss='mean_squared_error', optimizer='adam')\n",
    "print(model.summary())\n"
   ]
  },
  {
   "cell_type": "markdown",
   "metadata": {},
   "source": [
    "# Generate the model"
   ]
  },
  {
   "cell_type": "code",
   "execution_count": 23,
   "metadata": {},
   "outputs": [
    {
     "name": "stdout",
     "output_type": "stream",
     "text": [
      "WARNING:tensorflow:From C:\\Users\\kohte\\Anaconda3\\lib\\site-packages\\tensorflow\\python\\ops\\math_ops.py:3066: to_int32 (from tensorflow.python.ops.math_ops) is deprecated and will be removed in a future version.\n",
      "Instructions for updating:\n",
      "Use tf.cast instead.\n",
      "Epoch 1/300\n",
      " - 147s - loss: 0.0077\n",
      "Epoch 2/300\n",
      " - 177s - loss: 0.0041\n",
      "Epoch 3/300\n",
      " - 187s - loss: 0.0029\n",
      "Epoch 4/300\n",
      " - 187s - loss: 0.0023\n",
      "Epoch 5/300\n",
      " - 187s - loss: 0.0025\n",
      "Epoch 6/300\n",
      " - 187s - loss: 0.0020\n",
      "Epoch 7/300\n",
      " - 188s - loss: 0.0019\n",
      "Epoch 8/300\n",
      " - 188s - loss: 0.0016\n",
      "Epoch 9/300\n",
      " - 188s - loss: 0.0015\n",
      "Epoch 10/300\n",
      " - 188s - loss: 0.0015\n",
      "Epoch 11/300\n",
      " - 188s - loss: 0.0014\n",
      "Epoch 12/300\n",
      " - 189s - loss: 0.0015\n",
      "Epoch 13/300\n",
      " - 188s - loss: 0.0013\n",
      "Epoch 14/300\n",
      " - 188s - loss: 0.0013\n",
      "Epoch 15/300\n",
      " - 188s - loss: 0.0013\n",
      "Epoch 16/300\n",
      " - 189s - loss: 0.0013\n",
      "Epoch 17/300\n",
      " - 188s - loss: 0.0013\n",
      "Epoch 18/300\n",
      " - 189s - loss: 0.0012\n",
      "Epoch 19/300\n",
      " - 189s - loss: 0.0012\n",
      "Epoch 20/300\n",
      " - 189s - loss: 0.0011\n",
      "Epoch 21/300\n",
      " - 188s - loss: 0.0012\n",
      "Epoch 22/300\n",
      " - 188s - loss: 0.0011\n",
      "Epoch 23/300\n",
      " - 189s - loss: 0.0011\n",
      "Epoch 24/300\n",
      " - 188s - loss: 0.0010\n",
      "Epoch 25/300\n",
      " - 189s - loss: 0.0011\n",
      "Epoch 26/300\n",
      " - 188s - loss: 0.0010\n",
      "Epoch 27/300\n",
      " - 188s - loss: 9.9293e-04\n",
      "Epoch 28/300\n",
      " - 188s - loss: 0.0011\n",
      "Epoch 29/300\n",
      " - 189s - loss: 0.0010\n",
      "Epoch 30/300\n",
      " - 188s - loss: 0.0010\n",
      "Epoch 31/300\n",
      " - 189s - loss: 0.0010\n",
      "Epoch 32/300\n",
      " - 189s - loss: 0.0010\n",
      "Epoch 33/300\n",
      " - 189s - loss: 0.0010\n",
      "Epoch 34/300\n",
      " - 189s - loss: 9.8148e-04\n",
      "Epoch 35/300\n",
      " - 188s - loss: 9.5608e-04\n",
      "Epoch 36/300\n",
      " - 189s - loss: 9.2229e-04\n",
      "Epoch 37/300\n",
      " - 189s - loss: 9.2640e-04\n",
      "Epoch 38/300\n",
      " - 189s - loss: 9.6847e-04\n",
      "Epoch 39/300\n",
      " - 189s - loss: 8.3610e-04\n",
      "Epoch 40/300\n",
      " - 189s - loss: 0.0010\n",
      "Epoch 41/300\n",
      " - 189s - loss: 9.4208e-04\n",
      "Epoch 42/300\n",
      " - 189s - loss: 9.0101e-04\n",
      "Epoch 43/300\n",
      " - 189s - loss: 9.3417e-04\n",
      "Epoch 44/300\n",
      " - 188s - loss: 9.9320e-04\n",
      "Epoch 45/300\n",
      " - 189s - loss: 9.0912e-04\n",
      "Epoch 46/300\n",
      " - 189s - loss: 7.7806e-04\n",
      "Epoch 47/300\n",
      " - 189s - loss: 8.9078e-04\n",
      "Epoch 48/300\n",
      " - 189s - loss: 8.8093e-04\n",
      "Epoch 49/300\n",
      " - 189s - loss: 8.7595e-04\n",
      "Epoch 50/300\n",
      " - 189s - loss: 9.2667e-04\n",
      "Epoch 51/300\n",
      " - 189s - loss: 9.1866e-04\n",
      "Epoch 52/300\n",
      " - 189s - loss: 8.2217e-04\n",
      "Epoch 53/300\n",
      " - 188s - loss: 8.9150e-04\n",
      "Epoch 54/300\n",
      " - 188s - loss: 8.5772e-04\n",
      "Epoch 55/300\n",
      " - 189s - loss: 8.6722e-04\n",
      "Epoch 56/300\n",
      " - 189s - loss: 7.5638e-04\n",
      "Epoch 57/300\n",
      " - 189s - loss: 9.1168e-04\n",
      "Epoch 58/300\n",
      " - 188s - loss: 7.7980e-04\n",
      "Epoch 59/300\n",
      " - 188s - loss: 8.0639e-04\n",
      "Epoch 60/300\n",
      " - 188s - loss: 7.6176e-04\n",
      "Epoch 61/300\n",
      " - 188s - loss: 8.5959e-04\n",
      "Epoch 62/300\n",
      " - 188s - loss: 8.3037e-04\n",
      "Epoch 63/300\n",
      " - 189s - loss: 8.3141e-04\n",
      "Epoch 64/300\n",
      " - 188s - loss: 8.4509e-04\n",
      "Epoch 65/300\n",
      " - 189s - loss: 8.1001e-04\n",
      "Epoch 66/300\n",
      " - 189s - loss: 8.2637e-04\n",
      "Epoch 67/300\n",
      " - 188s - loss: 7.3474e-04\n",
      "Epoch 68/300\n",
      " - 188s - loss: 8.7631e-04\n",
      "Epoch 69/300\n",
      " - 188s - loss: 7.9634e-04\n",
      "Epoch 70/300\n",
      " - 188s - loss: 7.3119e-04\n",
      "Epoch 71/300\n",
      " - 189s - loss: 8.8923e-04\n",
      "Epoch 72/300\n",
      " - 189s - loss: 7.2267e-04\n",
      "Epoch 73/300\n",
      " - 188s - loss: 7.6973e-04\n",
      "Epoch 74/300\n",
      " - 189s - loss: 8.7566e-04\n",
      "Epoch 75/300\n",
      " - 189s - loss: 7.6247e-04\n",
      "Epoch 76/300\n",
      " - 189s - loss: 7.5113e-04\n",
      "Epoch 77/300\n",
      " - 189s - loss: 7.7360e-04\n",
      "Epoch 78/300\n",
      " - 198s - loss: 8.1674e-04\n",
      "Epoch 79/300\n",
      " - 189s - loss: 7.6494e-04\n",
      "Epoch 80/300\n",
      " - 189s - loss: 7.9810e-04\n",
      "Epoch 81/300\n",
      " - 189s - loss: 7.8332e-04\n",
      "Epoch 82/300\n",
      " - 189s - loss: 7.1131e-04\n",
      "Epoch 83/300\n",
      " - 189s - loss: 7.5383e-04\n",
      "Epoch 84/300\n",
      " - 189s - loss: 7.2044e-04\n",
      "Epoch 85/300\n",
      " - 189s - loss: 7.8463e-04\n",
      "Epoch 86/300\n",
      " - 189s - loss: 7.8474e-04\n",
      "Epoch 87/300\n",
      " - 189s - loss: 7.1058e-04\n",
      "Epoch 88/300\n",
      " - 189s - loss: 7.2540e-04\n",
      "Epoch 89/300\n",
      " - 189s - loss: 7.2261e-04\n",
      "Epoch 90/300\n",
      " - 189s - loss: 7.5304e-04\n",
      "Epoch 91/300\n",
      " - 189s - loss: 7.6787e-04\n",
      "Epoch 92/300\n",
      " - 189s - loss: 7.2236e-04\n",
      "Epoch 93/300\n",
      " - 188s - loss: 7.3491e-04\n",
      "Epoch 94/300\n",
      " - 188s - loss: 7.0686e-04\n",
      "Epoch 95/300\n",
      " - 189s - loss: 7.5698e-04\n",
      "Epoch 96/300\n",
      " - 189s - loss: 8.0890e-04\n",
      "Epoch 97/300\n",
      " - 189s - loss: 7.4444e-04\n",
      "Epoch 98/300\n",
      " - 189s - loss: 7.3966e-04\n",
      "Epoch 99/300\n",
      " - 189s - loss: 6.7081e-04\n",
      "Epoch 100/300\n",
      " - 189s - loss: 7.2386e-04\n",
      "Epoch 101/300\n",
      " - 189s - loss: 7.1334e-04\n",
      "Epoch 102/300\n",
      " - 190s - loss: 7.2262e-04\n",
      "Epoch 103/300\n",
      " - 189s - loss: 7.3639e-04\n",
      "Epoch 104/300\n",
      " - 189s - loss: 7.1422e-04\n",
      "Epoch 105/300\n",
      " - 190s - loss: 7.5412e-04\n",
      "Epoch 106/300\n",
      " - 189s - loss: 7.4731e-04\n",
      "Epoch 107/300\n",
      " - 189s - loss: 7.6300e-04\n",
      "Epoch 108/300\n",
      " - 189s - loss: 7.4727e-04\n",
      "Epoch 109/300\n",
      " - 189s - loss: 7.0823e-04\n",
      "Epoch 110/300\n",
      " - 190s - loss: 7.0301e-04\n",
      "Epoch 111/300\n",
      " - 189s - loss: 7.2810e-04\n",
      "Epoch 112/300\n",
      " - 189s - loss: 6.8015e-04\n",
      "Epoch 113/300\n",
      " - 189s - loss: 6.6957e-04\n",
      "Epoch 114/300\n",
      " - 189s - loss: 7.3032e-04\n",
      "Epoch 115/300\n",
      " - 188s - loss: 6.5268e-04\n",
      "Epoch 116/300\n",
      " - 189s - loss: 7.0174e-04\n",
      "Epoch 117/300\n",
      " - 189s - loss: 7.0059e-04\n",
      "Epoch 118/300\n",
      " - 189s - loss: 6.7926e-04\n",
      "Epoch 119/300\n",
      " - 189s - loss: 6.8160e-04\n",
      "Epoch 120/300\n",
      " - 188s - loss: 6.8921e-04\n",
      "Epoch 121/300\n",
      " - 188s - loss: 7.2141e-04\n",
      "Epoch 122/300\n",
      " - 189s - loss: 6.8386e-04\n",
      "Epoch 123/300\n",
      " - 189s - loss: 6.3813e-04\n",
      "Epoch 124/300\n",
      " - 189s - loss: 6.6788e-04\n",
      "Epoch 125/300\n",
      " - 189s - loss: 6.8299e-04\n",
      "Epoch 126/300\n",
      " - 189s - loss: 6.9123e-04\n",
      "Epoch 127/300\n",
      " - 189s - loss: 6.8298e-04\n",
      "Epoch 128/300\n",
      " - 189s - loss: 6.1478e-04\n",
      "Epoch 129/300\n",
      " - 189s - loss: 6.6468e-04\n",
      "Epoch 130/300\n",
      " - 189s - loss: 7.1694e-04\n",
      "Epoch 131/300\n",
      " - 189s - loss: 6.6680e-04\n",
      "Epoch 132/300\n",
      " - 189s - loss: 6.5932e-04\n",
      "Epoch 133/300\n",
      " - 189s - loss: 7.0085e-04\n",
      "Epoch 134/300\n",
      " - 188s - loss: 7.3716e-04\n",
      "Epoch 135/300\n",
      " - 189s - loss: 6.7428e-04\n",
      "Epoch 136/300\n",
      " - 188s - loss: 6.8001e-04\n",
      "Epoch 137/300\n",
      " - 189s - loss: 7.4245e-04\n",
      "Epoch 138/300\n",
      " - 189s - loss: 6.5318e-04\n",
      "Epoch 139/300\n",
      " - 188s - loss: 7.0654e-04\n",
      "Epoch 140/300\n",
      " - 188s - loss: 6.9288e-04\n",
      "Epoch 141/300\n",
      " - 189s - loss: 6.7891e-04\n",
      "Epoch 142/300\n",
      " - 188s - loss: 6.6684e-04\n",
      "Epoch 143/300\n",
      " - 188s - loss: 6.5209e-04\n",
      "Epoch 144/300\n",
      " - 188s - loss: 6.8245e-04\n",
      "Epoch 145/300\n",
      " - 189s - loss: 6.6392e-04\n",
      "Epoch 146/300\n",
      " - 188s - loss: 6.6271e-04\n",
      "Epoch 147/300\n",
      " - 188s - loss: 6.4498e-04\n",
      "Epoch 148/300\n",
      " - 189s - loss: 6.5514e-04\n",
      "Epoch 149/300\n",
      " - 188s - loss: 6.3922e-04\n",
      "Epoch 150/300\n",
      " - 189s - loss: 6.8481e-04\n",
      "Epoch 151/300\n",
      " - 189s - loss: 6.8315e-04\n",
      "Epoch 152/300\n",
      " - 189s - loss: 6.7367e-04\n",
      "Epoch 153/300\n",
      " - 189s - loss: 6.8745e-04\n",
      "Epoch 154/300\n",
      " - 189s - loss: 6.4574e-04\n",
      "Epoch 155/300\n",
      " - 189s - loss: 6.4225e-04\n",
      "Epoch 156/300\n",
      " - 190s - loss: 6.5289e-04\n",
      "Epoch 157/300\n",
      " - 189s - loss: 5.7408e-04\n",
      "Epoch 158/300\n",
      " - 189s - loss: 6.1716e-04\n",
      "Epoch 159/300\n",
      " - 189s - loss: 5.8401e-04\n",
      "Epoch 160/300\n",
      " - 189s - loss: 6.1625e-04\n",
      "Epoch 161/300\n",
      " - 189s - loss: 5.8113e-04\n",
      "Epoch 162/300\n",
      " - 189s - loss: 6.3476e-04\n",
      "Epoch 163/300\n",
      " - 190s - loss: 6.3516e-04\n",
      "Epoch 164/300\n",
      " - 189s - loss: 6.6072e-04\n",
      "Epoch 165/300\n",
      " - 188s - loss: 6.4056e-04\n",
      "Epoch 166/300\n",
      " - 189s - loss: 6.6748e-04\n",
      "Epoch 167/300\n",
      " - 189s - loss: 6.5921e-04\n",
      "Epoch 168/300\n",
      " - 189s - loss: 6.6073e-04\n",
      "Epoch 169/300\n",
      " - 189s - loss: 6.0836e-04\n",
      "Epoch 170/300\n",
      " - 189s - loss: 6.4075e-04\n",
      "Epoch 171/300\n",
      " - 189s - loss: 6.7023e-04\n",
      "Epoch 172/300\n",
      " - 189s - loss: 6.7107e-04\n",
      "Epoch 173/300\n",
      " - 188s - loss: 6.3947e-04\n",
      "Epoch 174/300\n",
      " - 188s - loss: 6.5284e-04\n",
      "Epoch 175/300\n",
      " - 188s - loss: 6.0691e-04\n",
      "Epoch 176/300\n",
      " - 188s - loss: 6.2842e-04\n",
      "Epoch 177/300\n",
      " - 189s - loss: 5.9862e-04\n",
      "Epoch 178/300\n",
      " - 189s - loss: 6.2507e-04\n",
      "Epoch 179/300\n",
      " - 189s - loss: 6.2010e-04\n",
      "Epoch 180/300\n",
      " - 189s - loss: 6.5495e-04\n",
      "Epoch 181/300\n",
      " - 189s - loss: 6.4722e-04\n",
      "Epoch 182/300\n",
      " - 188s - loss: 6.3191e-04\n",
      "Epoch 183/300\n",
      " - 190s - loss: 6.0329e-04\n",
      "Epoch 184/300\n",
      " - 189s - loss: 6.2940e-04\n",
      "Epoch 185/300\n",
      " - 189s - loss: 6.2837e-04\n",
      "Epoch 186/300\n",
      " - 189s - loss: 5.9119e-04\n",
      "Epoch 187/300\n",
      " - 189s - loss: 6.3787e-04\n",
      "Epoch 188/300\n",
      " - 199s - loss: 6.2627e-04\n",
      "Epoch 189/300\n",
      " - 189s - loss: 6.2306e-04\n",
      "Epoch 190/300\n",
      " - 189s - loss: 6.5077e-04\n",
      "Epoch 191/300\n",
      " - 188s - loss: 6.8553e-04\n",
      "Epoch 192/300\n",
      " - 188s - loss: 6.0868e-04\n",
      "Epoch 193/300\n",
      " - 189s - loss: 0.0021\n",
      "Epoch 194/300\n",
      " - 189s - loss: 0.0033\n",
      "Epoch 195/300\n",
      " - 189s - loss: 0.0019\n",
      "Epoch 196/300\n",
      " - 189s - loss: 0.0018\n",
      "Epoch 197/300\n",
      " - 189s - loss: 0.0017\n",
      "Epoch 198/300\n",
      " - 189s - loss: 0.0016\n",
      "Epoch 199/300\n",
      " - 189s - loss: 0.0014\n",
      "Epoch 200/300\n",
      " - 188s - loss: 0.0014\n",
      "Epoch 201/300\n"
     ]
    },
    {
     "name": "stdout",
     "output_type": "stream",
     "text": [
      " - 188s - loss: 0.0014\n",
      "Epoch 202/300\n",
      " - 189s - loss: 0.0015\n",
      "Epoch 203/300\n",
      " - 188s - loss: 0.0014\n",
      "Epoch 204/300\n",
      " - 189s - loss: 0.0014\n",
      "Epoch 205/300\n",
      " - 188s - loss: 0.0012\n",
      "Epoch 206/300\n",
      " - 189s - loss: 0.0013\n",
      "Epoch 207/300\n",
      " - 189s - loss: 0.0012\n",
      "Epoch 208/300\n",
      " - 188s - loss: 0.0012\n",
      "Epoch 209/300\n",
      " - 189s - loss: 0.0011\n",
      "Epoch 210/300\n",
      " - 189s - loss: 0.0011\n",
      "Epoch 211/300\n",
      " - 189s - loss: 0.0011\n",
      "Epoch 212/300\n",
      " - 189s - loss: 0.0012\n",
      "Epoch 213/300\n",
      " - 188s - loss: 0.0011\n",
      "Epoch 214/300\n",
      " - 189s - loss: 9.9598e-04\n",
      "Epoch 215/300\n",
      " - 188s - loss: 0.0010\n",
      "Epoch 216/300\n",
      " - 189s - loss: 0.0011\n",
      "Epoch 217/300\n",
      " - 189s - loss: 0.0011\n",
      "Epoch 218/300\n",
      " - 189s - loss: 0.0011\n",
      "Epoch 219/300\n",
      " - 189s - loss: 9.7521e-04\n",
      "Epoch 220/300\n",
      " - 189s - loss: 9.3257e-04\n",
      "Epoch 221/300\n",
      " - 189s - loss: 9.4153e-04\n",
      "Epoch 222/300\n",
      " - 192s - loss: 9.3034e-04\n",
      "Epoch 223/300\n"
     ]
    },
    {
     "ename": "KeyboardInterrupt",
     "evalue": "",
     "output_type": "error",
     "traceback": [
      "\u001b[1;31m---------------------------------------------------------------------------\u001b[0m",
      "\u001b[1;31mKeyboardInterrupt\u001b[0m                         Traceback (most recent call last)",
      "\u001b[1;32m<ipython-input-23-d600a6bddcbb>\u001b[0m in \u001b[0;36m<module>\u001b[1;34m\u001b[0m\n\u001b[1;32m----> 1\u001b[1;33m \u001b[0mmodel\u001b[0m\u001b[1;33m.\u001b[0m\u001b[0mfit\u001b[0m\u001b[1;33m(\u001b[0m\u001b[0mX_train\u001b[0m\u001b[1;33m,\u001b[0m \u001b[0my_train\u001b[0m\u001b[1;33m,\u001b[0m \u001b[0mepochs\u001b[0m\u001b[1;33m=\u001b[0m\u001b[1;36m300\u001b[0m\u001b[1;33m,\u001b[0m \u001b[0mbatch_size\u001b[0m\u001b[1;33m=\u001b[0m\u001b[0mbatch_size\u001b[0m\u001b[1;33m,\u001b[0m \u001b[0mverbose\u001b[0m\u001b[1;33m=\u001b[0m\u001b[1;36m2\u001b[0m\u001b[1;33m,\u001b[0m \u001b[0mshuffle\u001b[0m\u001b[1;33m=\u001b[0m\u001b[1;32mTrue\u001b[0m\u001b[1;33m)\u001b[0m\u001b[1;33m\u001b[0m\u001b[1;33m\u001b[0m\u001b[0m\n\u001b[0m",
      "\u001b[1;32m~\\Anaconda3\\lib\\site-packages\\keras\\engine\\training.py\u001b[0m in \u001b[0;36mfit\u001b[1;34m(self, x, y, batch_size, epochs, verbose, callbacks, validation_split, validation_data, shuffle, class_weight, sample_weight, initial_epoch, steps_per_epoch, validation_steps, **kwargs)\u001b[0m\n\u001b[0;32m   1037\u001b[0m                                         \u001b[0minitial_epoch\u001b[0m\u001b[1;33m=\u001b[0m\u001b[0minitial_epoch\u001b[0m\u001b[1;33m,\u001b[0m\u001b[1;33m\u001b[0m\u001b[1;33m\u001b[0m\u001b[0m\n\u001b[0;32m   1038\u001b[0m                                         \u001b[0msteps_per_epoch\u001b[0m\u001b[1;33m=\u001b[0m\u001b[0msteps_per_epoch\u001b[0m\u001b[1;33m,\u001b[0m\u001b[1;33m\u001b[0m\u001b[1;33m\u001b[0m\u001b[0m\n\u001b[1;32m-> 1039\u001b[1;33m                                         validation_steps=validation_steps)\n\u001b[0m\u001b[0;32m   1040\u001b[0m \u001b[1;33m\u001b[0m\u001b[0m\n\u001b[0;32m   1041\u001b[0m     def evaluate(self, x=None, y=None,\n",
      "\u001b[1;32m~\\Anaconda3\\lib\\site-packages\\keras\\engine\\training_arrays.py\u001b[0m in \u001b[0;36mfit_loop\u001b[1;34m(model, f, ins, out_labels, batch_size, epochs, verbose, callbacks, val_f, val_ins, shuffle, callback_metrics, initial_epoch, steps_per_epoch, validation_steps)\u001b[0m\n\u001b[0;32m    197\u001b[0m                     \u001b[0mins_batch\u001b[0m\u001b[1;33m[\u001b[0m\u001b[0mi\u001b[0m\u001b[1;33m]\u001b[0m \u001b[1;33m=\u001b[0m \u001b[0mins_batch\u001b[0m\u001b[1;33m[\u001b[0m\u001b[0mi\u001b[0m\u001b[1;33m]\u001b[0m\u001b[1;33m.\u001b[0m\u001b[0mtoarray\u001b[0m\u001b[1;33m(\u001b[0m\u001b[1;33m)\u001b[0m\u001b[1;33m\u001b[0m\u001b[1;33m\u001b[0m\u001b[0m\n\u001b[0;32m    198\u001b[0m \u001b[1;33m\u001b[0m\u001b[0m\n\u001b[1;32m--> 199\u001b[1;33m                 \u001b[0mouts\u001b[0m \u001b[1;33m=\u001b[0m \u001b[0mf\u001b[0m\u001b[1;33m(\u001b[0m\u001b[0mins_batch\u001b[0m\u001b[1;33m)\u001b[0m\u001b[1;33m\u001b[0m\u001b[1;33m\u001b[0m\u001b[0m\n\u001b[0m\u001b[0;32m    200\u001b[0m                 \u001b[0mouts\u001b[0m \u001b[1;33m=\u001b[0m \u001b[0mto_list\u001b[0m\u001b[1;33m(\u001b[0m\u001b[0mouts\u001b[0m\u001b[1;33m)\u001b[0m\u001b[1;33m\u001b[0m\u001b[1;33m\u001b[0m\u001b[0m\n\u001b[0;32m    201\u001b[0m                 \u001b[1;32mfor\u001b[0m \u001b[0ml\u001b[0m\u001b[1;33m,\u001b[0m \u001b[0mo\u001b[0m \u001b[1;32min\u001b[0m \u001b[0mzip\u001b[0m\u001b[1;33m(\u001b[0m\u001b[0mout_labels\u001b[0m\u001b[1;33m,\u001b[0m \u001b[0mouts\u001b[0m\u001b[1;33m)\u001b[0m\u001b[1;33m:\u001b[0m\u001b[1;33m\u001b[0m\u001b[1;33m\u001b[0m\u001b[0m\n",
      "\u001b[1;32m~\\Anaconda3\\lib\\site-packages\\keras\\backend\\tensorflow_backend.py\u001b[0m in \u001b[0;36m__call__\u001b[1;34m(self, inputs)\u001b[0m\n\u001b[0;32m   2713\u001b[0m                 \u001b[1;32mreturn\u001b[0m \u001b[0mself\u001b[0m\u001b[1;33m.\u001b[0m\u001b[0m_legacy_call\u001b[0m\u001b[1;33m(\u001b[0m\u001b[0minputs\u001b[0m\u001b[1;33m)\u001b[0m\u001b[1;33m\u001b[0m\u001b[1;33m\u001b[0m\u001b[0m\n\u001b[0;32m   2714\u001b[0m \u001b[1;33m\u001b[0m\u001b[0m\n\u001b[1;32m-> 2715\u001b[1;33m             \u001b[1;32mreturn\u001b[0m \u001b[0mself\u001b[0m\u001b[1;33m.\u001b[0m\u001b[0m_call\u001b[0m\u001b[1;33m(\u001b[0m\u001b[0minputs\u001b[0m\u001b[1;33m)\u001b[0m\u001b[1;33m\u001b[0m\u001b[1;33m\u001b[0m\u001b[0m\n\u001b[0m\u001b[0;32m   2716\u001b[0m         \u001b[1;32melse\u001b[0m\u001b[1;33m:\u001b[0m\u001b[1;33m\u001b[0m\u001b[1;33m\u001b[0m\u001b[0m\n\u001b[0;32m   2717\u001b[0m             \u001b[1;32mif\u001b[0m \u001b[0mpy_any\u001b[0m\u001b[1;33m(\u001b[0m\u001b[0mis_tensor\u001b[0m\u001b[1;33m(\u001b[0m\u001b[0mx\u001b[0m\u001b[1;33m)\u001b[0m \u001b[1;32mfor\u001b[0m \u001b[0mx\u001b[0m \u001b[1;32min\u001b[0m \u001b[0minputs\u001b[0m\u001b[1;33m)\u001b[0m\u001b[1;33m:\u001b[0m\u001b[1;33m\u001b[0m\u001b[1;33m\u001b[0m\u001b[0m\n",
      "\u001b[1;32m~\\Anaconda3\\lib\\site-packages\\keras\\backend\\tensorflow_backend.py\u001b[0m in \u001b[0;36m_call\u001b[1;34m(self, inputs)\u001b[0m\n\u001b[0;32m   2673\u001b[0m             \u001b[0mfetched\u001b[0m \u001b[1;33m=\u001b[0m \u001b[0mself\u001b[0m\u001b[1;33m.\u001b[0m\u001b[0m_callable_fn\u001b[0m\u001b[1;33m(\u001b[0m\u001b[1;33m*\u001b[0m\u001b[0marray_vals\u001b[0m\u001b[1;33m,\u001b[0m \u001b[0mrun_metadata\u001b[0m\u001b[1;33m=\u001b[0m\u001b[0mself\u001b[0m\u001b[1;33m.\u001b[0m\u001b[0mrun_metadata\u001b[0m\u001b[1;33m)\u001b[0m\u001b[1;33m\u001b[0m\u001b[1;33m\u001b[0m\u001b[0m\n\u001b[0;32m   2674\u001b[0m         \u001b[1;32melse\u001b[0m\u001b[1;33m:\u001b[0m\u001b[1;33m\u001b[0m\u001b[1;33m\u001b[0m\u001b[0m\n\u001b[1;32m-> 2675\u001b[1;33m             \u001b[0mfetched\u001b[0m \u001b[1;33m=\u001b[0m \u001b[0mself\u001b[0m\u001b[1;33m.\u001b[0m\u001b[0m_callable_fn\u001b[0m\u001b[1;33m(\u001b[0m\u001b[1;33m*\u001b[0m\u001b[0marray_vals\u001b[0m\u001b[1;33m)\u001b[0m\u001b[1;33m\u001b[0m\u001b[1;33m\u001b[0m\u001b[0m\n\u001b[0m\u001b[0;32m   2676\u001b[0m         \u001b[1;32mreturn\u001b[0m \u001b[0mfetched\u001b[0m\u001b[1;33m[\u001b[0m\u001b[1;33m:\u001b[0m\u001b[0mlen\u001b[0m\u001b[1;33m(\u001b[0m\u001b[0mself\u001b[0m\u001b[1;33m.\u001b[0m\u001b[0moutputs\u001b[0m\u001b[1;33m)\u001b[0m\u001b[1;33m]\u001b[0m\u001b[1;33m\u001b[0m\u001b[1;33m\u001b[0m\u001b[0m\n\u001b[0;32m   2677\u001b[0m \u001b[1;33m\u001b[0m\u001b[0m\n",
      "\u001b[1;32m~\\Anaconda3\\lib\\site-packages\\tensorflow\\python\\client\\session.py\u001b[0m in \u001b[0;36m__call__\u001b[1;34m(self, *args, **kwargs)\u001b[0m\n\u001b[0;32m   1437\u001b[0m           ret = tf_session.TF_SessionRunCallable(\n\u001b[0;32m   1438\u001b[0m               \u001b[0mself\u001b[0m\u001b[1;33m.\u001b[0m\u001b[0m_session\u001b[0m\u001b[1;33m.\u001b[0m\u001b[0m_session\u001b[0m\u001b[1;33m,\u001b[0m \u001b[0mself\u001b[0m\u001b[1;33m.\u001b[0m\u001b[0m_handle\u001b[0m\u001b[1;33m,\u001b[0m \u001b[0margs\u001b[0m\u001b[1;33m,\u001b[0m \u001b[0mstatus\u001b[0m\u001b[1;33m,\u001b[0m\u001b[1;33m\u001b[0m\u001b[1;33m\u001b[0m\u001b[0m\n\u001b[1;32m-> 1439\u001b[1;33m               run_metadata_ptr)\n\u001b[0m\u001b[0;32m   1440\u001b[0m         \u001b[1;32mif\u001b[0m \u001b[0mrun_metadata\u001b[0m\u001b[1;33m:\u001b[0m\u001b[1;33m\u001b[0m\u001b[1;33m\u001b[0m\u001b[0m\n\u001b[0;32m   1441\u001b[0m           \u001b[0mproto_data\u001b[0m \u001b[1;33m=\u001b[0m \u001b[0mtf_session\u001b[0m\u001b[1;33m.\u001b[0m\u001b[0mTF_GetBuffer\u001b[0m\u001b[1;33m(\u001b[0m\u001b[0mrun_metadata_ptr\u001b[0m\u001b[1;33m)\u001b[0m\u001b[1;33m\u001b[0m\u001b[1;33m\u001b[0m\u001b[0m\n",
      "\u001b[1;31mKeyboardInterrupt\u001b[0m: "
     ]
    }
   ],
   "source": [
    "model.fit(X_train, y_train, epochs=300, batch_size=batch_size, verbose=2, shuffle=True)"
   ]
  },
  {
   "cell_type": "markdown",
   "metadata": {},
   "source": [
    "Make preditions"
   ]
  },
  {
   "cell_type": "code",
   "execution_count": 24,
   "metadata": {},
   "outputs": [
    {
     "name": "stdout",
     "output_type": "stream",
     "text": [
      "Train Score: 0.04 RMSE\n",
      "Test Score: 0.05 RMSE\n"
     ]
    }
   ],
   "source": [
    "import math\n",
    "from sklearn.metrics import mean_squared_error\n",
    "\n",
    "trainPredict = model.predict(X_train, batch_size=batch_size)\n",
    "model.reset_states()\n",
    "\n",
    "testPredict = model.predict(X_test, batch_size=batch_size)\n",
    "model.reset_states()\n",
    "# invert predictions\n",
    "trainPredict_inv_scl = scaler.inverse_transform(trainPredict)\n",
    "y_train_inv_scl = scaler.inverse_transform([y_train])\n",
    "testPredict_inv_scl = scaler.inverse_transform(testPredict)\n",
    "y_test_inv_scl = scaler.inverse_transform([y_test])\n",
    "# calculate root mean squared error\n",
    "trainScore = math.sqrt(mean_squared_error(y_train_inv_scl[0], trainPredict_inv_scl[:,0]))\n",
    "print('Train Score: %.2f RMSE' % (trainScore))\n",
    "testScore = math.sqrt(mean_squared_error(y_test_inv_scl[0], testPredict_inv_scl[:,0]))\n",
    "print('Test Score: %.2f RMSE' % (testScore))"
   ]
  },
  {
   "cell_type": "markdown",
   "metadata": {},
   "source": [
    "Because of how the dataset was prepared, we must shift the predictions so that they align on the x-axis with the original dataset. Once prepared, the data is plotted, showing the original dataset in blue, the predictions for the training dataset in green, and the predictions on the unseen test dataset in red.\n",
    "\n",
    "\n",
    "shift train predictions for plotting"
   ]
  },
  {
   "cell_type": "code",
   "execution_count": 26,
   "metadata": {
    "scrolled": true
   },
   "outputs": [
    {
     "data": {
      "image/png": "[encoded data removed]",
      "text/plain": [
       "<Figure size 1440x720 with 1 Axes>"
      ]
     },
     "metadata": {
      "needs_background": "light"
     },
     "output_type": "display_data"
    }
   ],
   "source": [
    "trainPredictPlot = np.empty_like(scaled)\n",
    "trainPredictPlot[:, :] = np.nan\n",
    "trainPredictPlot[look_back:len(trainPredict)+look_back, :] = trainPredict_inv_scl\n",
    "# shift test predictions for plotting\n",
    "testPredictPlot = np.empty_like(scaled)\n",
    "testPredictPlot[:, :] = np.nan\n",
    "testPredictPlot[len(trainPredict)+((look_back+future)*2)+1:len(scaled)-1, :] = testPredict_inv_scl\n",
    "# plot baseline and predictions\n",
    "plt.figure(figsize=(20,10))\n",
    "plt.plot(scaler.inverse_transform(scaled))\n",
    "plt.plot(trainPredictPlot)\n",
    "plt.plot(testPredictPlot)\n",
    "# plt.xlim(1000,1100)\n",
    "plt.show()"
   ]
  },
  {
   "cell_type": "markdown",
   "metadata": {},
   "source": [
    "# Save the model"
   ]
  },
  {
   "cell_type": "code",
   "execution_count": 27,
   "metadata": {},
   "outputs": [
    {
     "name": "stdout",
     "output_type": "stream",
     "text": [
      "Saved model to disk\n"
     ]
    }
   ],
   "source": [
    "model_json = model.to_json()\n",
    "with open(\"model.json\", \"w\") as json_file:\n",
    "    json_file.write(model_json)\n",
    "# serialize weights to HDF5\n",
    "model.save_weights(\"model.h5\")\n",
    "print(\"Saved model to disk\")"
   ]
  },
  {
   "cell_type": "markdown",
   "metadata": {},
   "source": [
    "# Load the model"
   ]
  },
  {
   "cell_type": "code",
   "execution_count": 28,
   "metadata": {},
   "outputs": [
    {
     "name": "stdout",
     "output_type": "stream",
     "text": [
      "Loaded model from disk\n"
     ]
    }
   ],
   "source": [
    "from keras.models import model_from_json\n",
    "# load json and create model\n",
    "json_file = open('model.json', 'r')\n",
    "loaded_model_json = json_file.read()\n",
    "json_file.close()\n",
    "loaded_model = model_from_json(loaded_model_json)\n",
    "# load weights into new model\n",
    "loaded_model.load_weights(\"model.h5\")\n",
    "print(\"Loaded model from disk\")"
   ]
  },
  {
   "cell_type": "markdown",
   "metadata": {},
   "source": [
    "# Test Loaded Model"
   ]
  },
  {
   "cell_type": "code",
   "execution_count": null,
   "metadata": {},
   "outputs": [],
   "source": [
    "trainPredict = loaded_model.predict(X_train, batch_size=batch_size)\n",
    "loaded_model.reset_states()\n",
    "\n",
    "testPredict = loaded_model.predict(X_test, batch_size=batch_size)\n",
    "loaded_model.reset_states()\n",
    "# invert predictions\n",
    "trainPredict_inv_scl = scaler.inverse_transform(trainPredict)\n",
    "y_train_inv_scl = scaler.inverse_transform([y_train])\n",
    "testPredict_inv_scl = scaler.inverse_transform(testPredict)\n",
    "y_test_inv_scl = scaler.inverse_transform([y_test])\n",
    "# calculate root mean squared error\n",
    "trainScore = math.sqrt(mean_squared_error(y_train_inv_scl[0], trainPredict_inv_scl[:,0]))\n",
    "print('Train Score: %.2f RMSE' % (trainScore))\n",
    "testScore = math.sqrt(mean_squared_error(y_test_inv_scl[0], testPredict_inv_scl[:,0]))\n",
    "print('Test Score: %.2f RMSE' % (testScore))"
   ]
  },
  {
   "cell_type": "code",
   "execution_count": null,
   "metadata": {},
   "outputs": [],
   "source": []
  }
 ],
 "metadata": {
  "kernelspec": {
   "display_name": "Python 3",
   "language": "python",
   "name": "python3"
  },
  "language_info": {
   "codemirror_mode": {
    "name": "ipython",
    "version": 3
   },
   "file_extension": ".py",
   "mimetype": "text/x-python",
   "name": "python",
   "nbconvert_exporter": "python",
   "pygments_lexer": "ipython3",
   "version": "3.7.1"
  }
 },
 "nbformat": 4,
 "nbformat_minor": 2
}
